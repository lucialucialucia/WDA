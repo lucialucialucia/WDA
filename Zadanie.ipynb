{
 "cells": [
  {
   "cell_type": "markdown",
   "metadata": {},
   "source": [
    "## Dátová množina - Telco Customer (záverečné zadanie)\n",
    "\n",
    "Pre účely zadania budeme pracovať s dátamo v oblasti telekomunikácií. Dataset (súbor `Telecom-Churn.csv` v adresári `data`) obsahuje informácie o zákazníkoch telekomunikačného operátora vrátane informácií o nich samotných a informáciach o službách, ktoré u daného operátora majú aktivované. \n",
    "Cieľom je vytvoriť prediktívny model, ktorý bude predpovedať (na základe informácií o zákazníkoch), či od telekomunikačného operátora odídu alebo nie (atribút `Churn`). \n",
    "\n",
    "Popis dát:\n",
    "\n",
    "* customerID - identifikátor zákazníka\n",
    "* gender - pohlavie zákazníka\n",
    "* SeniorCitizen - udáva, či je zákazník senior, alebo nie (1, 0)\n",
    "* Partner - udáva, či má zákazník partnera, alebo nie (Yes, No)\n",
    "* Dependents - udáva, či má zákazník ľudí na ňom závislých alebo nie (Yes, No)\n",
    "* tenure - ako dlho je už zákazník zákazníkom telekomunikačnej spoločnosti (v mesiacoch)\n",
    "* PhoneService - udáva, či zákazník má telefonickú službu alebo nie (Yes, No)\n",
    "* MultipleLines - či zákazník používa viacero liniek (čísel) (Yes, No, No phone service)\n",
    "* InternetService - typ pripojenia zákanzíkna na internet (DSL, Fiber optic, No)\n",
    "* OnlineSecurity - udáva, či používateľ používa službu zabezpečenia pripojenia (Yes, No, No internet service)\n",
    "* OnlineBackup - udáva, či používateľ používa službu online zálohovania (Yes, No, No internet service)\n",
    "* DeviceProtectionWhether - používanie zabezpečenia zariadenia (Yes, No, No internet service)\n",
    "* TechSupport - služba technickej podpory (Yes, No, No internet service)\n",
    "* StreamingTV - služba streamovanej televízie (Yes, No, No internet service)\n",
    "* StreamingMovies - služba streamovania filmov (Yes, No, No internet service)\n",
    "* Contract - typ kontraktu, ktorý zákazník uzavrel (Month-to-month, One year, Two year)\n",
    "* PaperlessBilling - či má aktivovanú službu výpisov účtov elektronicky (Yes, No)\n",
    "* PaymentMethod - spôsob platby (Electronic check, Mailed check, Bank transfer (automatic), Credit card (automatic))\n",
    "* MonthlyCharges - mesačná výška platby\n",
    "* TotalCharges - celková výška platby\n",
    "* Churn - cieľový atribút - či používateľ odišiel od operátora alebo nie (Yes or No)\n"
   ]
  },
  {
   "cell_type": "markdown",
   "metadata": {},
   "source": [
    "### Úloha 1 - Načítanie dát (2b)\n",
    "\n",
    "Načítajte dáta do dátového rámca a odstráňte nepotrebné atribúty, ktoré sa nedajú využiť pri analýze dát."
   ]
  },
  {
   "cell_type": "code",
   "execution_count": null,
   "metadata": {},
   "outputs": [],
   "source": [
    "# YOUR CODE HERE"
   ]
  },
  {
   "cell_type": "markdown",
   "metadata": {},
   "source": [
    "### Úloha 2 - Základné štatistiky (4b)\n",
    "\n",
    "* Pre číselné atribúty vypočítajte základné štatistiky a vizualizujte distribúciu pravdepodobnosti výskytu hodnôt.\n",
    "* Pre nominálne/ordinálne atribúty vypočítajte početnosti hodnôt. Vykreslite pre ne histogramy.\n",
    "* Pre každý atribút vypočítajte počet chýbajúcich hodnôt."
   ]
  },
  {
   "cell_type": "code",
   "execution_count": null,
   "metadata": {},
   "outputs": [],
   "source": [
    "# YOUR CODE HERE"
   ]
  },
  {
   "cell_type": "markdown",
   "metadata": {},
   "source": [
    "### Úloha 3 - Závislosti medzi číselnými atribútmi (3b)\n",
    "\n",
    "Vypočítajte korelačnú maticu pre číselné atribúty a identifikujte, ktoré atribúty sú najviac korelované."
   ]
  },
  {
   "cell_type": "code",
   "execution_count": null,
   "metadata": {},
   "outputs": [],
   "source": [
    "# YOUR CODE HERE"
   ]
  },
  {
   "cell_type": "markdown",
   "metadata": {},
   "source": [
    "### Úloha 4 - Diskretizácia hodnôt (4b)\n",
    "\n",
    "* Diskretizujte číselné atribúty `MonthlyCharges` a `TotalCharges` do 5 rovnako veľkých intervalov.\n",
    "* Diskretizujte číselný atribút `Tenure` na 5 intervalov s rovnakou početnosťou príkladov."
   ]
  },
  {
   "cell_type": "code",
   "execution_count": null,
   "metadata": {},
   "outputs": [],
   "source": [
    "# YOUR CODE HERE"
   ]
  },
  {
   "cell_type": "markdown",
   "metadata": {},
   "source": [
    "### Úloha 5 - Závislosti medzi nominálnymi/ordinálnymi atribútmi (5b)\n",
    "\n",
    "* Pomocou kontingenčnej tabuľky zistite, aká je závislosť medzi atribútmi `Tenure`, `MonthlyCharges`, `TotalCharges` a atribútom `Churn` (využite diskretizovanie hodnôt z úlohy 4). Závislosti vizualizujte vhodným spôsobom pomocou knižnice Seaborn.\n",
    "* Pomocou kontingenčnej tabuľky zistite, aká je závislosť medzi atribútmi `Gender`, `SeniorCitizen` a atribútom `Churn`.\n",
    "* Pomocou krížovej tabuľky zistite početnosť rôznych kombinácií služieb pre atribúty `PhoneService`, `InternetService`, `StreamingTV`, `StreamingMovies`. Početnosti vizualizujte aj pomocou Seaborn knižnice."
   ]
  },
  {
   "cell_type": "code",
   "execution_count": null,
   "metadata": {},
   "outputs": [],
   "source": [
    "# YOUR CODE HERE"
   ]
  },
  {
   "cell_type": "markdown",
   "metadata": {},
   "source": [
    "### Úloha 6 - Nahradenie chýbajúcich hodnôt (5b)\n",
    "\n",
    "* Vhodným spôsobom nahraďte chýbajúce hondnoty v atribúte `MonthlyCharges` v závislosti od atribútu `TotalCharges` a `Tenure`.\n",
    "* Pre hodnoty `TotalCharges` porozmýšľajte nad odvodením chýbajúcich hodnôt na základe `Tenure`.\n",
    "* Vhodným spôsobom nahraďte chýbajúce hodnoty v atribúte `Dependents` v závislosti od atribútov `Gender` a `Partner`."
   ]
  },
  {
   "cell_type": "code",
   "execution_count": null,
   "metadata": {},
   "outputs": [],
   "source": [
    "# YOUR CODE HERE"
   ]
  },
  {
   "cell_type": "markdown",
   "metadata": {},
   "source": [
    "### Úloha 7 - Odvodenie nových atribútov (5b)\n",
    "\n",
    "* Vytvorte nový atribút `TotalMonthCharges`, ktorého hondoty sú rovné `MonthlyCharges * Tenure`.\n",
    "* Vytvorte nový atribút `TotalRatio` ktorý bude mať hodnotu -1 ak `TotalMonthCharges < TotalCharges`, 0 ak `TotalMonthCharges = TotalCharges` a +1 ak `TotalMonthCharges > TotalCharges`."
   ]
  },
  {
   "cell_type": "code",
   "execution_count": null,
   "metadata": {},
   "outputs": [],
   "source": [
    "# YOUR CODE HERE"
   ]
  },
  {
   "cell_type": "markdown",
   "metadata": {},
   "source": [
    "### Úloha 8 - Prevedenie dát do podoby vhodnej pre modelovanie (5b)\n",
    "\n",
    "Predspracovaný dátový rámec preveďte do podoby vhodnej pre modelovanie:\n",
    "* Použite vhodný spôsob transformovania kategorických atribútov\n",
    "* Použite normalizáciu zvolených atribútov pre modely, pre ktoré je normalizácia vhodná\n",
    "* Zvoľte, ktoré z atribútov (pôvodných a vytvorených/transformovaných) použijete pri tvorbe modelov."
   ]
  },
  {
   "cell_type": "code",
   "execution_count": null,
   "metadata": {},
   "outputs": [],
   "source": [
    "# YOUR CODE HERE"
   ]
  },
  {
   "cell_type": "markdown",
   "metadata": {},
   "source": [
    "### Úloha 9 - Rozdelenie dát na trénovanie a testovanie (2b)\n",
    "\n",
    "* Rozdeľte dátovú množinu do matice príznakov a vektora hodnôt cieľového atribútu\n",
    "* Rozdeľte dáta do trénovacej a testovacej množiny v pomere 70/30."
   ]
  },
  {
   "cell_type": "code",
   "execution_count": null,
   "metadata": {},
   "outputs": [],
   "source": [
    "# YOUR CODE HERE"
   ]
  },
  {
   "cell_type": "markdown",
   "metadata": {},
   "source": [
    "### Úloha 10 - Natrénovanie klasifikačných modelov a nájdenie optimálnych parametrov (6b)\n",
    "\n",
    "Natrénujte klasifikačné modely rôznych typov (Stromy, kNN, Naive Bayes, Random Forests). Pre nájdenie optimálnych parametrov modelov jednotlivých typov modelov použite GridSearch. V rámci GridSearch modely validujte 5- násobnou krížovou validáciou a ako metriku pre ich vyhodnotenie použite `accuracy`."
   ]
  },
  {
   "cell_type": "code",
   "execution_count": null,
   "metadata": {},
   "outputs": [],
   "source": [
    "# YOUR CODE HERE"
   ]
  },
  {
   "cell_type": "markdown",
   "metadata": {},
   "source": [
    "### Úloha 11 - Porovnanie modelov pomocou ROC kriviek (4b)\n",
    "\n",
    "* Modely otestujte na testovacej množine a modely jednotlivých typov s najvhodnejšími parametrami vzájomne porovnajte pomocou ROC kriviek a AUC koeficientov. ROC krivky vykreslite pomocou matplotlib a nájdite najlepší z modelov.  "
   ]
  },
  {
   "cell_type": "code",
   "execution_count": null,
   "metadata": {},
   "outputs": [],
   "source": [
    "# YOUR CODE HERE"
   ]
  },
  {
   "cell_type": "markdown",
   "metadata": {},
   "source": [
    "### Úloha 12 - Vyhodnotenie modelu na testovacej množine (4b)\n",
    "\n",
    "* Modely otestujte na testovacej množine, pri testovaní na testovacej množine vypíšte hodnoty metrík (accuracy, precision, recall) a confusion matrix. Porovnajte výsledky - ktorý z modelov najlepšie predikuje deteguje zákazníkov, ktorí od telekomunikačného operátora odídu?\n",
    "* Vykreslite model rozhodovacích stromov (pomocou webgraphviz). Pokúste sa zo štruktúry modelu odvodiť klasifikačné pravidlo/pravidlá pre identifikáciu odchádzajúcich zákazníkov."
   ]
  },
  {
   "cell_type": "code",
   "execution_count": null,
   "metadata": {},
   "outputs": [],
   "source": [
    "# YOUR CODE HERE"
   ]
  }
 ],
 "metadata": {
  "kernelspec": {
   "display_name": "Python 3",
   "language": "python",
   "name": "python3"
  },
  "language_info": {
   "codemirror_mode": {
    "name": "ipython",
    "version": 3
   },
   "file_extension": ".py",
   "mimetype": "text/x-python",
   "name": "python",
   "nbconvert_exporter": "python",
   "pygments_lexer": "ipython3",
   "version": "3.7.1"
  }
 },
 "nbformat": 4,
 "nbformat_minor": 2
}


